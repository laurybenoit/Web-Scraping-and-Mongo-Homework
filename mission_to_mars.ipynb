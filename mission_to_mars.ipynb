{
 "cells": [
  {
   "cell_type": "code",
   "execution_count": 32,
   "metadata": {},
   "outputs": [],
   "source": [
    "# NASA Mars News"
   ]
  },
  {
   "cell_type": "code",
   "execution_count": 1,
   "metadata": {},
   "outputs": [],
   "source": [
    " # Import Splinter and BeautifulSoup\n",
    "from splinter import Browser\n",
    "import requests\n",
    "from bs4 import BeautifulSoup\n",
    "import pandas as pd "
   ]
  },
  {
   "cell_type": "code",
   "execution_count": 2,
   "metadata": {},
   "outputs": [],
   "source": [
    "executable_path = {'executable_path': 'chromedriver'}\n",
    "browser = Browser('chrome', **executable_path)"
   ]
  },
  {
   "cell_type": "code",
   "execution_count": 3,
   "metadata": {},
   "outputs": [],
   "source": [
    "url = 'https://mars.nasa.gov/news/'\n",
    "browser.visit(url)"
   ]
  },
  {
   "cell_type": "code",
   "execution_count": 4,
   "metadata": {},
   "outputs": [
    {
     "name": "stdout",
     "output_type": "stream",
     "text": "<li class=\"slide\"><div class=\"image_and_description_container\"><a href=\"/news/8408/the-marco-mission-comes-to-an-end/\" target=\"_self\"><div class=\"rollover_description\"><div class=\"rollover_description_inner\">The pair of briefcase-sized satellites made history when they sailed past Mars in 2019.</div><div class=\"overlay_arrow\"><img alt=\"More\" src=\"/assets/overlay-arrow.png\"/></div></div><div class=\"list_image\"><img alt=\"MarCO-B, one of the experimental Mars Cube One (MarCO) CubeSats, took these images as it approached Mars.\" src=\"/system/news_items/list_view_images/8408_22206_PIA22655-th.gif\"/></div><div class=\"bottom_gradient\"><div><h3>The MarCO Mission Comes to an End</h3></div></div></a><div class=\"list_text\"><div class=\"list_date\">February 27, 2020</div><div class=\"content_title\"><a href=\"/news/8408/the-marco-mission-comes-to-an-end/\" target=\"_self\">The MarCO Mission Comes to an End</a></div><div class=\"article_teaser_body\">The pair of briefcase-sized satellites made history when they sailed past Mars in 2019.</div></div></div></li>\n"
    }
   ],
   "source": [
    "html = browser.html\n",
    "mars_soup = BeautifulSoup(html, \"html.parser\")\n",
    "slide_element = mars_soup.select_one(\"ul.item_list li.slide\")\n",
    "print(slide_element)"
   ]
  },
  {
   "cell_type": "code",
   "execution_count": 5,
   "metadata": {},
   "outputs": [
    {
     "data": {
      "text/plain": "<div class=\"content_title\"><a href=\"/news/8408/the-marco-mission-comes-to-an-end/\" target=\"_self\">The MarCO Mission Comes to an End</a></div>"
     },
     "execution_count": 5,
     "metadata": {},
     "output_type": "execute_result"
    }
   ],
   "source": [
    "slide_element.find(\"div\", class_=\"content_title\")"
   ]
  },
  {
   "cell_type": "code",
   "execution_count": 6,
   "metadata": {},
   "outputs": [
    {
     "name": "stdout",
     "output_type": "stream",
     "text": "The MarCO Mission Comes to an End\n"
    }
   ],
   "source": [
    "latest_title = slide_element.find(\"div\", class_=\"content_title\").get_text()\n",
    "print(latest_title)"
   ]
  },
  {
   "cell_type": "code",
   "execution_count": 7,
   "metadata": {},
   "outputs": [
    {
     "name": "stdout",
     "output_type": "stream",
     "text": "The pair of briefcase-sized satellites made history when they sailed past Mars in 2019.\n"
    }
   ],
   "source": [
    "latest_paragraph = slide_element.find(\"div\", class_=\"article_teaser_body\").get_text()\n",
    "print(latest_paragraph)"
   ]
  },
  {
   "cell_type": "code",
   "execution_count": 8,
   "metadata": {},
   "outputs": [],
   "source": [
    "# JPL Mars Space Images - Featured Image"
   ]
  },
  {
   "cell_type": "code",
   "execution_count": 9,
   "metadata": {},
   "outputs": [],
   "source": [
    "executable_path = {'executable_path': 'chromedriver'}\n",
    "browser = Browser('chrome', **executable_path)\n",
    "url = 'https://www.jpl.nasa.gov/spaceimages/?search=&category=Mars'\n",
    "browser.visit(url)"
   ]
  },
  {
   "cell_type": "code",
   "execution_count": 10,
   "metadata": {},
   "outputs": [],
   "source": [
    "mars_image = browser.find_by_id(\"full_image\")\n",
    "mars_image.click()"
   ]
  },
  {
   "cell_type": "code",
   "execution_count": 13,
   "metadata": {},
   "outputs": [
    {
     "data": {
      "text/plain": "<splinter.element_list.ElementList at 0x20f2b306e88>"
     },
     "execution_count": 13,
     "metadata": {},
     "output_type": "execute_result"
    }
   ],
   "source": [
    "browser.is_element_present_by_text(\"more info\", wait_time=1)\n",
    "more_info_image = browser.find_link_by_partial_text(\"more info\")\n",
    "more_info_image"
   ]
  },
  {
   "cell_type": "code",
   "execution_count": 14,
   "metadata": {},
   "outputs": [],
   "source": [
    "html = browser.html\n",
    "image_w_soup = BeautifulSoup(html, \"html.parser\")"
   ]
  },
  {
   "cell_type": "code",
   "execution_count": 15,
   "metadata": {},
   "outputs": [
    {
     "name": "stdout",
     "output_type": "stream",
     "text": "/assets/images/logo_nasa_trio_black@2x.png\n"
    }
   ],
   "source": [
    "image_url = image_w_soup.select_one(\"img\").get(\"src\")\n",
    "print(image_url)"
   ]
  },
  {
   "cell_type": "code",
   "execution_count": 16,
   "metadata": {},
   "outputs": [
    {
     "name": "stdout",
     "output_type": "stream",
     "text": "https://www.jpl.nasa.gov/assets/images/logo_nasa_trio_black@2x.png\n"
    }
   ],
   "source": [
    "image_url2 = f\"https://www.jpl.nasa.gov{image_url}\"\n",
    "print(image_url2)"
   ]
  },
  {
   "cell_type": "code",
   "execution_count": 47,
   "metadata": {},
   "outputs": [],
   "source": [
    "# twitter account"
   ]
  },
  {
   "cell_type": "code",
   "execution_count": 17,
   "metadata": {},
   "outputs": [],
   "source": [
    "executable_path = {'executable_path': 'chromedriver'}\n",
    "browser = Browser('chrome', **executable_path)\n",
    "url = 'https://twitter.com/marswxreport?lang=en'\n",
    "browser.visit(url)"
   ]
  },
  {
   "cell_type": "code",
   "execution_count": 18,
   "metadata": {},
   "outputs": [],
   "source": [
    "html = browser.html\n",
    "twitter_soup = BeautifulSoup(html, \"html.parser\")"
   ]
  },
  {
   "cell_type": "code",
   "execution_count": 19,
   "metadata": {},
   "outputs": [
    {
     "name": "stdout",
     "output_type": "stream",
     "text": "pload_md5_hashing_enabled\":{\"value\":false},\"responsive_web_media_upload_target_jpg_pixels_per_byte\":{\"value\":1},\"responsive_web_media_viewer_m2_sidebar_enabled\":{\"value\":false},\"responsive_web_media_viewer_m2_tweet_actions_bar_enabled\":{\"value\":true},\"responsive_web_moment_maker_enabled\":{\"value\":false},\"responsive_web_multiple_account_limit\":{\"value\":5},\"responsive_web_new_multi_account_ux_enabled\":{\"value\":false},\"responsive_web_news_camera_consume_enabled\":{\"value\":true},\"responsive_web_ntab_verified_mentions_vit_internal_dogfood\":{\"value\":false},\"responsive_web_ocf_sms_autoverify_enabled\":{\"value\":false},\"responsive_web_report_page_not_found\":{\"value\":false},\"responsive_web_rich_tweet_landing_enabled\":{\"value\":true},\"responsive_web_scheduling_edit_enabled\":{\"value\":false},\"responsive_web_scheduling_enabled\":{\"value\":false},\"responsive_web_scheduling_entry_point\":{\"value\":\"overflow\"},\"responsive_web_scroller_autopoll_enabled\":{\"value\":false},\"responsive_web_scroller_pin_to_top_enabled\":{\"value\":false},\"responsive_web_scroller_v3_enabled\":{\"value\":false},\"responsive_web_search_dms_enabled\":{\"value\":true},\"responsive_web_show_urt_connect_tab\":{\"value\":true},\"responsive_web_side_nav_enabled\":{\"value\":false},\"responsive_web_sports_carousel\":{\"value\":false},\"responsive_web_trends_setting_new_endpoints\":{\"value\":false},\"responsive_web_tweet_drafts_enabled\":{\"value\":false},\"responsive_web_tweets_pill_local_enabled\":{\"value\":false},\"responsive_web_unified_cards_all_cards_enabled\":{\"value\":false},\"responsive_web_unified_cards_amplify_enabled\":{\"value\":true},\"responsive_web_unified_cards_app_enabled\":{\"value\":true},\"responsive_web_unified_cards_appplayer_enabled\":{\"value\":true},\"responsive_web_unified_cards_audio_enabled\":{\"value\":true},\"responsive_web_unified_cards_broadcast_enabled\":{\"value\":true},\"responsive_web_unified_cards_direct_store_link_app_enabled\":{\"value\":true},\"responsive_web_unified_cards_image_direct_message_enabled\":{\"value\":true},\"responsive_web_unified_cards_live_event_enabled\":{\"value\":false},\"responsive_web_unified_cards_message_me_enabled\":{\"value\":true},\"responsive_web_unified_cards_moment_enabled\":{\"value\":true},\"responsive_web_unified_cards_periscope_broadcast_enabled\":{\"value\":true},\"responsive_web_unified_cards_player_enabled\":{\"value\":true},\"responsive_web_unified_cards_poll2choice_image_enabled\":{\"value\":false},\"responsive_web_unified_cards_poll2choice_text_only_enabled\":{\"value\":true},\"responsive_web_unified_cards_poll2choice_video_enabled\":{\"value\":false},\"responsive_web_unified_cards_poll3choice_image_enabled\":{\"value\":false},\"responsive_web_unified_cards_poll3choice_text_only_enabled\":{\"value\":true},\"responsive_web_unified_cards_poll3choice_video_enabled\":{\"value\":false},\"responsive_web_unified_cards_poll4choice_image_enabled\":{\"value\":false},\"responsive_web_unified_cards_poll4choice_text_only_enabled\":{\"value\":true},\"responsive_web_unified_cards_poll4choice_video_enabled\":{\"value\":false},\"responsive_web_unified_cards_promo_image_app_enabled\":{\"value\":true},\"responsive_web_unified_cards_promo_image_convo_enabled\":{\"value\":true},\"responsive_web_unified_cards_promo_video_convo_enabled\":{\"value\":true},\"responsive_web_unified_cards_promo_video_website_enabled\":{\"value\":true},\"responsive_web_unified_cards_promo_website_enabled\":{\"value\":true},\"responsive_web_unified_cards_promoted_cards_enabled\":{\"value\":true},\"responsive_web_unified_cards_summary_enabled\":{\"value\":true},\"responsive_web_unified_cards_summary_large_image_enabled\":{\"value\":true},\"responsive_web_unified_cards_unified_card_enabled\":{\"value\":true},\"responsive_web_unified_cards_video_direct_message_enabled\":{\"value\":true},\"responsive_web_unified_cards_vine_enabled\":{\"value\":true},\"responsive_web_verification_v2_enabled\":{\"value\":false},\"responsive_web_video_native_fullscreen_enabled\":{\"value\":true},\"responsive_web_video_promoted_logging_enabled\":{\"value\":true},\"responsive_web_vod_muted_captions_enabled\":{\"value\":true},\"responsive_web_vs_config_desktop_assumed_item_height\":{\"value\":100},\"responsive_web_vs_config_resize_observer_enabled\":{\"value\":true},\"responsive_web_zipkin_api_requests_enabled\":{\"value\":false},\"scribe_api_error_sample_size\":{\"value\":0},\"scribe_api_sample_size\":{\"value\":100},\"scribe_cdn_host_list\":{\"value\":[\"si0.twimg.com\",\"si1.twimg.com\",\"si2.twimg.com\",\"si3.twimg.com\",\"a0.twimg.com\",\"a1.twimg.com\",\"a2.twimg.com\",\"a3.twimg.com\",\"abs.twimg.com\",\"amp.twimg.com\",\"o.twimg.com\",\"pbs.twimg.com\",\"pbs-eb.twimg.com\",\"pbs-ec.twimg.com\",\"pbs-v6.twimg.com\",\"pbs-h1.twimg.com\",\"pbs-h2.twimg.com\",\"video.twimg.com\",\"platform.twitter.com\",\"cdn.api.twitter.com\",\"ton.twimg.com\",\"v.cdn.vine.co\",\"mtc.cdn.vine.co\",\"edge.vncdn.co\",\"mid.vncdn.co\"]},\"scribe_cdn_sample_size\":{\"value\":50},\"scribe_enabled\":{\"value\":true},\"soft_interventions_forward_pivot_enabled\":{\"value\":false},\"topic_landing_page_enabled\":{\"value\":false},\"topics_profile_entry_point_enabled\":{\"value\":true},\"tweet_limited_actions_config_enabled\":{\"value\":true},\"tweet_limited_actions_config_non_compliant\":{\"value\":[\"reply\",\"retweet\",\"like\",\"send_via_dm\",\"add_to_bookmarks\",\"add_to_moment\",\"pin_to_profile\",\"view_tweet_activity\",\"share_tweet_via\"]},\"user_display_name_max_limit\":{\"value\":50},\"web_video_hls_mp4_threshold_sec\":{\"value\":0},\"web_video_hlsjs_version\":{\"value\":\"\"},\"web_video_hlsjs_worker_enabled\":{\"value\":false},\"rweb_android_app_install_cta_v2_8497\":{\"value\":\"app_install_once_per_week\"},\"rweb_organic_hw_cards_8432\":{\"value\":\"treatment\"},\"rweb_promoted_hw_cards_8477\":{\"value\":\"treatment\"}},\"debug\":{},\"impression_pointers\":{},\"impressions\":{},\"featureSetToken\":\"440053e72860216f192c5f94f4d8d0e2dec78cb9\",\"isLoaded\":true,\"isLoading\":false,\"keysRead\":{},\"settingsVersion\":\"3d2b225de9c4da2b25f1d46bf664ca6f\"},\"urt\":{},\"entities\":{\"users\":{\"entities\":{},\"errors\":{},\"fetchStatus\":{}},\"tweets\":{\"entities\":{},\"errors\":{},\"fetchStatus\":{}},\"cards\":{\"entities\":{},\"errors\":{},\"fetchStatus\":{}}},\"toasts\":[],\"devices\":{\"browserPush\":{\"fetchStatus\":\"none\",\"pushNotificationsPrompt\":{\"dismissed\":false,\"fetchStatus\":\"none\"},\"subscribed\":false,\"supported\":null},\"devices\":{\"data\":{\"emails\":[],\"phone_numbers\":[]},\"fetchStatus\":\"none\"},\"notificationSettings\":{\"push_settings\":{\"error\":null,\"fetchStatus\":\"none\"},\"push_settings_template\":{\"template\":{\"settings\":[]}},\"sms_settings\":{\"error\":null,\"fetchStatus\":\"none\"},\"sms_settings_template\":{\"template\":{\"settings\":[]}},\"checkin_time\":null}},\"typeaheadUsers\":{\"fetchStatus\":\"none\",\"users\":{},\"denylist\":{},\"lastUpdated\":0,\"index\":{}},\"session\":{\"country\":\"US\",\"emailLiteLoginEligibility\":{\"fetchStatus\":\"none\"},\"guestId\":\"158325187266252304\",\"language\":\"en\",\"oneFactorLoginEligibility\":{\"fetchStatus\":\"none\"}},\"settings\":{\"local\":{\"nextPushCheckin\":0,\"shouldAutoPlayGif\":false,\"scale\":\"normal\",\"themeColor\":\"blue\",\"highContrastEnabled\":false,\"themeBackground\":\"light\",\"loginPromptLastShown\":0,\"reducedMotionEnabled\":false,\"conversationTreeEnabled\":false},\"remote\":{\"settings\":{\"display_sensitive_media\":false},\"fetchStatus\":\"none\"},\"dataSaver\":{\"dataSaverMode\":false},\"transient\":{\"dtabBarInfo\":{\"dtabAll\":null,\"dtabRweb\":null,\"hide\":false},\"loginPromptShown\":false,\"lastViewedDmInboxPath\":\"/messages\",\"themeFocus\":\"\"}},\"hashflags\":{\"fetchStatus\":\"none\",\"hashflags\":{}}};\nwindow.__META_DATA__ = {\"env\":\"prod\",\"isFromDynamicRenderer\":false,\"isLoggedIn\":false,\"isRTL\":false,\"hasMultiAccountCookie\":false,\"serverDate\":1583251872712,\"sha\":\"94d2213496936a6bfb8673afb604832e5b87e0a0\"};\n</script>\n<script nonce=\"\">\n  document.cookie = decodeURIComponent(\"gt=1234873973017653254; Max-Age=10800; Domain=.twitter.com; Path=/; Secure\");\n</script>\n<script charset=\"utf-8\" nonce=\"\" type=\"text/javascript\">\n  window.__SCRIPTS_LOADED__ = {};\n  !function(e){function n(n){for(var o,t,i=n[0],m=n[1],c=n[2],u=0,b=[];u&lt;i.length;u++)t=i[u],Object.prototype.hasOwnProperty.call(a,t)&amp;&amp;a[t]&amp;&amp;b.push(a[t][0]),a[t]=0;for(o in m)Object.prototype.hasOwnProperty.call(m,o)&amp;&amp;(e[o]=m[o]);for(l&amp;&amp;l(n);b.length;)b.shift()();return r.push.apply(r,c||[]),d()}function d(){for(var e,n=0;n&lt;r.length;n++){for(var d=r[n],o=!0,i=1;i&lt;d.length;i++){var m=d[i];0!==a[m]&amp;&amp;(o=!1)}o&amp;&amp;(r.splice(n--,1),e=t(t.s=d[0]))}return e}var o={},a={0:0},r=[];function t(n){if(o[n])return o[n].exports;var d=o[n]={i:n,l:!1,exports:{}};return e[n].call(d.exports,d,d.exports,t),d.l=!0,d.exports}t.e=function(e){var n=[],d=a[e];if(0!==d)if(d)n.push(d[2]);else{var o=new Promise((function(n,o){d=a[e]=[n,o]}));n.push(d[2]=o);var r,i=document.createElement(\"script\");i.charset=\"utf-8\",i.timeout=120,t.nc&amp;&amp;i.setAttribute(\"nonce\",t.nc),i.src=function(e){return t.p+\"\"+({2:\"shared~bundle.HomeTimeline\",3:\"shared~bundle.DirectMessages\",4:\"shared~bundle.UserProfile\",5:\"shared~bundle.Settings\",6:\"shared~bundle.Explore~bundle.GenericTimeline~bundle.LiveEvent~bundle.Place~bundle.Search\",7:\"bundle.NewsCameraCapsule~loader.NewsCamera~ondemand.VideoPlayerDefaultUI\",8:\"bundle.Conversation~bundle.TweetMediaDetail\",9:\"bundle.DMRichTextCompose~ondemand.TweetDeckRichTextCompose\",10:\"bundle.Display~bundle.Settings\",11:\"bundle.NewsCameraCapsule~loader.NewsCamera\",12:\"ondemand.PlayerBase~ondemand.lex\",13:\"vendors~ondemand.TweetDeckRichTextCompose~bundle.DMRichTextCompose\",14:\"bundle.AboutThisAd\",15:\"bundle.Account\",16:\"bundle.AdvancedSearch\",17:\"bundle.Bookmarks\",18:\"bundle.Broadcast\",19:\"bundle.Collection\",20:\"bundle.Compose\",21:\"bundle.ComposeMedia\",22:\"bundle.ConnectTab\",23:\"bundle.Conversation\",24:\"bundle.ConversationParticipants\",25:\"bundle.DMRichTextCompose\",26:\"bundle.DirectMessages\",27:\"bundle.Display\",28:\"bundle.Download\",29:\"bundle.Explore\",30:\"bundle.ExploreTopics\",31:\"bundle.FollowerRequests\",32:\"bundle.GenericTimeline\",33:\"bundle.GifSearch\",34:\"bundle.HomeTimeline\",35:\"bundle.KeyboardShortcuts\",36:\"bundle.LiveEvent\",37:\"bundle.LoggedOutHome\",38:\"bundle.Login\",39:\"bundle.Logout\",40:\"bundle.Moment\",41:\"bundle.MomentMaker\",42:\"bundle.MultiAccount\",43:\"bundle.NetworkInstrument\",44:\"bundle.NewsCameraCapsule\",45:\"bundle.NotificationDetail\",46:\"bundle.Notifications\",47:\"bundle.Ocf\",48:\"bundle.Place\",49:\"bundle.ProfileRedirect\",50:\"bundle.Report\",51:\"bundle.RichTextCompose\",52:\"bundle.Search\",53:\"bundle.Settings\",54:\"bundle.SettingsInternals\",55:\"bundle.SettingsProfile\",56:\"bundle.SettingsTransparency\",57:\"bundle.SmsLogin\",58:\"bundle.Topics\",59:\"bundle.Trends\",60:\"bundle.TweetActivity\",61:\"bundle.TweetMediaDetail\",62:\"bundle.TweetMediaTags\",63:\"bundle.Twitterversary\",64:\"bundle.UserAvatar\",65:\"bundle.UserFollowLists\",66:\"bundle.UserHeader\",67:\"bundle.UserLists\",68:\"bundle.UserMoments\",69:\"bundle.UserProfile\",70:\"bundle.UserProfileTimelines\",71:\"bundle.UserRedirect\",170:\"loader.AbsolutePower\",171:\"loader.AppModules\",172:\"loader.DashMenu\",173:\"loader.ExploreSidebar\",174:\"loader.FeedbackSheet\",175:\"loader.FeedbackTombstone\",176:\"loader.HWCard\",177:\"loader.NewTweetsPill\",178:\"loader.NewsCamera\",179:\"loader.PeriscopeOverlay\",180:\"loader.ProfileClusterFollow\",181:\"loader.PushNotificationsPrompt\",182:\"loader.SideNav\",183:\"loader.SignupModule\",184:\"loader.TimelineGap\",185:\"loader.TimelineRenderer\",186:\"loader.TweetCurationActionMenu\",187:\"loader.TweetPhotos\",188:\"loader.Typeahead\",189:\"loader.WideLayout\",190:\"loader.directMessagesData\",191:\"loader.graphQLDarkReads\",193:\"ondemand.Balloons\",194:\"ondemand.CarouselScroller\",195:\"ondemand.ComposeScheduling\",196:\"ondemand.EditBirthdate\",197:\"ondemand.EmojiPicker\",198:\"ondemand.HoverCard\",199:\"ondemand.InlinePlayer\",200:\"ondemand.IntentPrompt\",201:\"ondemand.MicrosoftInterface\",202:\"ondemand.PlayerBase\",203:\"ondemand.PlayerHls12\",204:\"ondemand.PlayerUi\",205:\"ondemand.ProfileSidebar\",206:\"ondemand.SettingsInternals\",207:\"ondemand.TweetDeckRichTextCompose\",208:\"ondemand.VideoPlayerDefaultUI\",209:\"ondemand.countries-ar\",210:\"ondemand.countries-bg\",211:\"ondemand.countries-bn\",212:\"ondemand.countries-ca\",213:\"ondemand.countries-cs\",214:\"ondemand.countries-da\",215:\"ondemand.countries-de\",216:\"ondemand.countries-el\",217:\"ondemand.countries-en\",218:\"ondemand.countries-en-GB\",219:\"ondemand.countries-es\",220:\"ondemand.countries-eu\",221:\"ondemand.countries-fa\",222:\"ondemand.countries-fi\",223:\"ondemand.countries-fil\",224:\"ondemand.countries-fr\",225:\"ondemand.countries-ga\",226:\"ondemand.countries-gl\",227:\"ondemand.countries-gu\",228:\"ondemand.countries-he\",229:\"ondemand.countries-hi\",230:\"ondemand.countries-hr\",231:\"ondemand.countries-hu\",232:\"ondemand.countries-id\",233:\"ondemand.countries-it\",234:\"ondemand.countries-ja\",235:\"ondemand.countries-kn\",236:\"ondemand.countries-ko\",237:\"ondemand.countries-mr\",238:\"ondemand.countries-ms\",239:\"ondemand.countries-nb\",240:\"ondemand.countries-nl\",241:\"ondemand.countries-pl\",242:\"ondemand.countries-pt\",243:\"ondemand.countries-ro\",244:\"ondemand.countries-ru\",245:\"ondemand.countries-sk\",246:\"ondemand.countries-sr\",247:\"ondemand.countries-sv\",248:\"ondemand.countries-ta\",249:\"ondemand.countries-th\",250:\"ondemand.countries-tr\",251:\"ondemand.countries-uk\",252:\"ondemand.countries-ur\",253:\"ondemand.countries-zh\",254:\"ondemand.countries-zh-Hant\",255:\"ondemand.emoji.ar\",256:\"ondemand.emoji.bg\",257:\"ondemand.emoji.bn\",258:\"ondemand.emoji.ca\",259:\"ondemand.emoji.cs\",260:\"ondemand.emoji.da\",261:\"ondemand.emoji.de\",262:\"ondemand.emoji.el\",263:\"ondemand.emoji.en\",264:\"ondemand.emoji.en-GB\",265:\"ondemand.emoji.en-ss\",266:\"ondemand.emoji.en-xx\",267:\"ondemand.emoji.es\",268:\"ondemand.emoji.eu\",269:\"ondemand.emoji.fa\",270:\"ondemand.emoji.fi\",271:\"ondemand.emoji.fil\",272:\"ondemand.emoji.fr\",273:\"ondemand.emoji.ga\",274:\"ondemand.emoji.gl\",275:\"ondemand.emoji.gu\",276:\"ondemand.emoji.he\",277:\"ondemand.emoji.hi\",278:\"ondemand.emoji.hr\",279:\"ondemand.emoji.hu\",280:\"ondemand.emoji.id\",281:\"ondemand.emoji.it\",282:\"ondemand.emoji.ja\",283:\"ondemand.emoji.kn\",284:\"ondemand.emoji.ko\",285:\"ondemand.emoji.mr\",286:\"ondemand.emoji.ms\",287:\"ondemand.emoji.nb\",288:\"ondemand.emoji.nl\",289:\"ondemand.emoji.pl\",290:\"ondemand.emoji.pt\",291:\"ondemand.emoji.ro\",292:\"ondemand.emoji.ru\",293:\"ondemand.emoji.sk\",294:\"ondemand.emoji.sr\",295:\"ondemand.emoji.sv\",296:\"ondemand.emoji.ta\",297:\"ondemand.emoji.th\",298:\"ondemand.emoji.tr\",299:\"ondemand.emoji.uk\",300:\"ondemand.emoji.ur\",301:\"ondemand.emoji.vi\",302:\"ondemand.emoji.zh\",303:\"ondemand.emoji.zh-Hant\",304:\"ondemand.framerateTracking\",305:\"ondemand.lex\",307:\"vendors~bundle.MomentMaker\",308:\"vendors~ondemand.EmojiPicker\",309:\"vendors~ondemand.PlayerBase\",310:\"vendors~ondemand.PlayerUi\",311:\"vendors~ondemand.TweetDeckRichTextCompose\"}[e]||e)+\".\"+{2:\"b388437\",3:\"ccbdc79\",4:\"b9d500b\",5:\"efd410b\",6:\"0ddf202\",7:\"01cd1bb\",8:\"1f9dc31\",9:\"f7a068f\",10:\"b7b0176\",11:\"c9b4719\",12:\"2fc597b\",13:\"2399444\",14:\"432f4cb\",15:\"67b16ba\",16:\"89e9298\",17:\"70e548d\",18:\"1398447\",19:\"cd99cc5\",20:\"e716f22\",21:\"9fccee9\",22:\"60b53cf\",23:\"d9b34af\",24:\"1df7f40\",25:\"162acde\",26:\"999d590\",27:\"20b69bb\",28:\"76060a7\",29:\"5caff58\",30:\"852db51\",31:\"9662f58\",32:\"47797f3\",33:\"e344996\",34:\"409455a\",35:\"7346fef\",36:\"48e58ed\",37:\"816f389\",38:\"aee532c\",39:\"17a9b4d\",40:\"4167c00\",41:\"761d07d\",42:\"d22a4df\",43:\"2c24bf7\",44:\"ad72e53\",45:\"24bb4ac\",46:\"0ff6842\",47:\"fc3279c\",48:\"64d548a\",49:\"df5c9ad\",50:\"09ff29e\",51:\"d96a3ca\",52:\"1194f23\",53:\"6aecce0\",54:\"6f415b1\",55:\"fba1217\",56:\"9535a65\",57:\"f70745c\",58:\"e1ef867\",59:\"c91a68d\",60:\"cad45ba\",61:\"511c727\",62:\"ba6b080\",63:\"74a6ad1\",64:\"d4189ba\",65:\"6f2007b\",66:\"deac82a\",67:\"8514a19\",68:\"d02f45d\",69:\"7257167\",70:\"d4fa461\",71:\"5d817be\",170:\"27c7d82\",171:\"a10c741\",172:\"e8d045b\",173:\"a7bd99a\",174:\"78b25ab\",175:\"f830b34\",176:\"cdf4fd3\",177:\"abf8d9f\",178:\"32b3449\",179:\"53018fb\",180:\"29af681\",181:\"0d7fa41\",182:\"fdeb681\",183:\"1e220d1\",184:\"092242a\",185:\"8c5db91\",186:\"dbdc487\",187:\"1977b08\",188:\"643865a\",189:\"d7a322f\",190:\"dbc5107\",191:\"9bce956\",193:\"f67347c\",194:\"6b7161a\",195:\"e827e11\",196:\"95cbfc5\",197:\"82a37b6\",198:\"3b026bd\",199:\"674400e\",200:\"fe6e8ab\",201:\"86fd62c\",202:\"c541897\",203:\"8da925b\",204:\"5fe5a3e\",205:\"bd468e8\",206:\"cadd826\",207:\"39ff85a\",208:\"475683f\",209:\"d4e488c\",210:\"3b85f91\",211:\"064f142\",212:\"e352ac8\",213:\"bb32611\",214:\"c3902b4\",215:\"a354b2f\",216:\"e60b36a\",217:\"44dbe24\",218:\"0f0491f\",219:\"0872961\",220:\"a57f677\",221:\"79ef574\",222:\"7ce0779\",223:\"43e6461\",224:\"32b7657\",225:\"c3e2ac8\",226:\"caca203\",227:\"48abc43\",228:\"0d2cacf\",229:\"a420644\",230:\"af2578b\",231:\"03981b5\",232:\"65a1df9\",233:\"a2f052d\",234:\"f653bd6\",235:\"ac9ea8e\",236:\"7762b2b\",237:\"771a2fc\",238:\"8941563\",239:\"cb6d992\",240:\"1e48d9e\",241:\"5f93479\",242:\"65de34c\",243:\"a928589\",244:\"95fe239\",245:\"ff2b631\",246:\"1af1f1d\",247:\"9cd375d\",248:\"27eb8ea\",249:\"e8495a0\",250:\"9753acd\",251:\"6f9c278\",252:\"42347f2\",253:\"c8a82af\",254:\"6b0eadc\",255:\"d907a21\",256:\"69477dc\",257:\"2fb15a4\",258:\"9302d60\",259:\"dc67882\",260:\"88db522\",261:\"95486b2\",262:\"02d9460\",263:\"f3b15d3\",264:\"af5a429\",265:\"71d0078\",266:\"dd1c201\",267:\"2afb977\",268:\"0748afd\",269:\"9cfa7b8\",270:\"a8e72b3\",271:\"91ef5f8\",272:\"2dd0cff\",273:\"f068c78\",274:\"5f56dec\",275:\"687831a\",276:\"a3c52d1\",277:\"026071f\",278:\"c1f5603\",279:\"8cea11b\",280:\"8738763\",281:\"4aa8cd6\",282:\"724189e\",283:\"302d87d\",284:\"f71fdbf\",285:\"f0346bf\",286:\"81be7b0\",287:\"a804db2\",288:\"42e4524\",289:\"86a5e88\",290:\"0de09b7\",291:\"3248a6e\",292:\"f49e9b5\",293:\"d9b3c1f\",294:\"750ed91\",295:\"54625a0\",296:\"98d26a2\",297:\"7d1b62a\",298:\"0843536\",299:\"3af76a6\",300:\"1175cb6\",301:\"e5afdb7\",302:\"e3947ab\",303:\"1957ee6\",304:\"d293a94\",305:\"32d8d32\",307:\"e0d4c2a\",308:\"e054bde\",309:\"332625f\",310:\"f3d3a7a\",311:\"c709c83\"}[e]+\"4.js\"}(e);var m=new Error;r=function(n){i.onerror=i.onload=null,clearTimeout(c);var d=a[e];if(0!==d){if(d){var o=n&amp;&amp;(\"load\"===n.type?\"missing\":n.type),r=n&amp;&amp;n.target&amp;&amp;n.target.src;m.message=\"Loading chunk \"+e+\" failed.\\n(\"+o+\": \"+r+\")\",m.name=\"ChunkLoadError\",m.type=o,m.request=r,d[1](m)}a[e]=void 0}};var c=setTimeout((function(){r({type:\"timeout\",target:i})}),12e4);i.onerror=i.onload=r,document.head.appendChild(i)}return Promise.all(n)},t.m=e,t.c=o,t.d=function(e,n,d){t.o(e,n)||Object.defineProperty(e,n,{enumerable:!0,get:d})},t.r=function(e){\"undefined\"!=typeof Symbol&amp;&amp;Symbol.toStringTag&amp;&amp;Object.defineProperty(e,Symbol.toStringTag,{value:\"Module\"}),Object.defineProperty(e,\"__esModule\",{value:!0})},t.t=function(e,n){if(1&amp;n&amp;&amp;(e=t(e)),8&amp;n)return e;if(4&amp;n&amp;&amp;\"object\"==typeof e&amp;&amp;e&amp;&amp;e.__esModule)return e;var d=Object.create(null);if(t.r(d),Object.defineProperty(d,\"default\",{enumerable:!0,value:e}),2&amp;n&amp;&amp;\"string\"!=typeof e)for(var o in e)t.d(d,o,function(n){return e[n]}.bind(null,o));return d},t.n=function(e){var n=e&amp;&amp;e.__esModule?function(){return e.default}:function(){return e};return t.d(n,\"a\",n),n},t.o=function(e,n){return Object.prototype.hasOwnProperty.call(e,n)},t.p=\"https://abs.twimg.com/responsive-web/web/\",t.oe=function(e){throw e};var i=window.webpackJsonp=window.webpackJsonp||[],m=i.push.bind(i);i.push=n,i=i.slice();for(var c=0;c&lt;i.length;c++)n(i[c]);var l=m;d()}([]),window.__SCRIPTS_LOADED__.runtime=!0;\n//# sourceMappingURL=runtime.96439334.js.map\n</script>\n<script charset=\"utf-8\" crossorigin=\"anonymous\" nonce=\"\" src=\"https://abs.twimg.com/responsive-web/web/polyfills.d82543e4.js\" type=\"text/javascript\"></script>\n<script charset=\"utf-8\" crossorigin=\"anonymous\" nonce=\"\" src=\"https://abs.twimg.com/responsive-web/web/vendors~main.483e4ab4.js\" type=\"text/javascript\"></script>\n<script charset=\"utf-8\" crossorigin=\"anonymous\" nonce=\"\" src=\"https://abs.twimg.com/responsive-web/web/i18n-rweb/en.687b6644.js\" type=\"text/javascript\"></script>\n<script charset=\"utf-8\" crossorigin=\"anonymous\" nonce=\"\" src=\"https://abs.twimg.com/responsive-web/web/i18n-horizon/en.be3e6784.js\" type=\"text/javascript\"></script>\n<script charset=\"utf-8\" crossorigin=\"anonymous\" nonce=\"\" src=\"https://abs.twimg.com/responsive-web/web/main.10c74524.js\" type=\"text/javascript\"></script>\n<script nonce=\"\">\n  if (!window.__SCRIPTS_LOADED__['main']) {\n    document.getElementById('ScriptLoadFailure').style.display = 'block';\n  }\n</script>\n<script async=\"\" src=\"https://twitter.com/i/js_inst?c_name=ui_metrics\"></script></body></html>\n"
    }
   ],
   "source": [
    "mars_twitter = twitter_soup.find(name=None)\n",
    "print(mars_twitter)"
   ]
  },
  {
   "cell_type": "code",
   "execution_count": 20,
   "metadata": {},
   "outputs": [
    {
     "name": "stdout",
     "output_type": "stream",
     "text": "pload_md5_hashing_enabled\":{\"value\":false},\"responsive_web_media_upload_target_jpg_pixels_per_byte\":{\"value\":1},\"responsive_web_media_viewer_m2_sidebar_enabled\":{\"value\":false},\"responsive_web_media_viewer_m2_tweet_actions_bar_enabled\":{\"value\":true},\"responsive_web_moment_maker_enabled\":{\"value\":false},\"responsive_web_multiple_account_limit\":{\"value\":5},\"responsive_web_new_multi_account_ux_enabled\":{\"value\":false},\"responsive_web_news_camera_consume_enabled\":{\"value\":true},\"responsive_web_ntab_verified_mentions_vit_internal_dogfood\":{\"value\":false},\"responsive_web_ocf_sms_autoverify_enabled\":{\"value\":false},\"responsive_web_report_page_not_found\":{\"value\":false},\"responsive_web_rich_tweet_landing_enabled\":{\"value\":true},\"responsive_web_scheduling_edit_enabled\":{\"value\":false},\"responsive_web_scheduling_enabled\":{\"value\":false},\"responsive_web_scheduling_entry_point\":{\"value\":\"overflow\"},\"responsive_web_scroller_autopoll_enabled\":{\"value\":false},\"responsive_web_scroller_pin_to_top_enabled\":{\"value\":false},\"responsive_web_scroller_v3_enabled\":{\"value\":false},\"responsive_web_search_dms_enabled\":{\"value\":true},\"responsive_web_show_urt_connect_tab\":{\"value\":true},\"responsive_web_side_nav_enabled\":{\"value\":false},\"responsive_web_sports_carousel\":{\"value\":false},\"responsive_web_trends_setting_new_endpoints\":{\"value\":false},\"responsive_web_tweet_drafts_enabled\":{\"value\":false},\"responsive_web_tweets_pill_local_enabled\":{\"value\":false},\"responsive_web_unified_cards_all_cards_enabled\":{\"value\":false},\"responsive_web_unified_cards_amplify_enabled\":{\"value\":true},\"responsive_web_unified_cards_app_enabled\":{\"value\":true},\"responsive_web_unified_cards_appplayer_enabled\":{\"value\":true},\"responsive_web_unified_cards_audio_enabled\":{\"value\":true},\"responsive_web_unified_cards_broadcast_enabled\":{\"value\":true},\"responsive_web_unified_cards_direct_store_link_app_enabled\":{\"value\":true},\"responsive_web_unified_cards_image_direct_message_enabled\":{\"value\":true},\"responsive_web_unified_cards_live_event_enabled\":{\"value\":false},\"responsive_web_unified_cards_message_me_enabled\":{\"value\":true},\"responsive_web_unified_cards_moment_enabled\":{\"value\":true},\"responsive_web_unified_cards_periscope_broadcast_enabled\":{\"value\":true},\"responsive_web_unified_cards_player_enabled\":{\"value\":true},\"responsive_web_unified_cards_poll2choice_image_enabled\":{\"value\":false},\"responsive_web_unified_cards_poll2choice_text_only_enabled\":{\"value\":true},\"responsive_web_unified_cards_poll2choice_video_enabled\":{\"value\":false},\"responsive_web_unified_cards_poll3choice_image_enabled\":{\"value\":false},\"responsive_web_unified_cards_poll3choice_text_only_enabled\":{\"value\":true},\"responsive_web_unified_cards_poll3choice_video_enabled\":{\"value\":false},\"responsive_web_unified_cards_poll4choice_image_enabled\":{\"value\":false},\"responsive_web_unified_cards_poll4choice_text_only_enabled\":{\"value\":true},\"responsive_web_unified_cards_poll4choice_video_enabled\":{\"value\":false},\"responsive_web_unified_cards_promo_image_app_enabled\":{\"value\":true},\"responsive_web_unified_cards_promo_image_convo_enabled\":{\"value\":true},\"responsive_web_unified_cards_promo_video_convo_enabled\":{\"value\":true},\"responsive_web_unified_cards_promo_video_website_enabled\":{\"value\":true},\"responsive_web_unified_cards_promo_website_enabled\":{\"value\":true},\"responsive_web_unified_cards_promoted_cards_enabled\":{\"value\":true},\"responsive_web_unified_cards_summary_enabled\":{\"value\":true},\"responsive_web_unified_cards_summary_large_image_enabled\":{\"value\":true},\"responsive_web_unified_cards_unified_card_enabled\":{\"value\":true},\"responsive_web_unified_cards_video_direct_message_enabled\":{\"value\":true},\"responsive_web_unified_cards_vine_enabled\":{\"value\":true},\"responsive_web_verification_v2_enabled\":{\"value\":false},\"responsive_web_video_native_fullscreen_enabled\":{\"value\":true},\"responsive_web_video_promoted_logging_enabled\":{\"value\":true},\"responsive_web_vod_muted_captions_enabled\":{\"value\":true},\"responsive_web_vs_config_desktop_assumed_item_height\":{\"value\":100},\"responsive_web_vs_config_resize_observer_enabled\":{\"value\":true},\"responsive_web_zipkin_api_requests_enabled\":{\"value\":false},\"scribe_api_error_sample_size\":{\"value\":0},\"scribe_api_sample_size\":{\"value\":100},\"scribe_cdn_host_list\":{\"value\":[\"si0.twimg.com\",\"si1.twimg.com\",\"si2.twimg.com\",\"si3.twimg.com\",\"a0.twimg.com\",\"a1.twimg.com\",\"a2.twimg.com\",\"a3.twimg.com\",\"abs.twimg.com\",\"amp.twimg.com\",\"o.twimg.com\",\"pbs.twimg.com\",\"pbs-eb.twimg.com\",\"pbs-ec.twimg.com\",\"pbs-v6.twimg.com\",\"pbs-h1.twimg.com\",\"pbs-h2.twimg.com\",\"video.twimg.com\",\"platform.twitter.com\",\"cdn.api.twitter.com\",\"ton.twimg.com\",\"v.cdn.vine.co\",\"mtc.cdn.vine.co\",\"edge.vncdn.co\",\"mid.vncdn.co\"]},\"scribe_cdn_sample_size\":{\"value\":50},\"scribe_enabled\":{\"value\":true},\"soft_interventions_forward_pivot_enabled\":{\"value\":false},\"topic_landing_page_enabled\":{\"value\":false},\"topics_profile_entry_point_enabled\":{\"value\":true},\"tweet_limited_actions_config_enabled\":{\"value\":true},\"tweet_limited_actions_config_non_compliant\":{\"value\":[\"reply\",\"retweet\",\"like\",\"send_via_dm\",\"add_to_bookmarks\",\"add_to_moment\",\"pin_to_profile\",\"view_tweet_activity\",\"share_tweet_via\"]},\"user_display_name_max_limit\":{\"value\":50},\"web_video_hls_mp4_threshold_sec\":{\"value\":0},\"web_video_hlsjs_version\":{\"value\":\"\"},\"web_video_hlsjs_worker_enabled\":{\"value\":false},\"rweb_android_app_install_cta_v2_8497\":{\"value\":\"app_install_once_per_week\"},\"rweb_organic_hw_cards_8432\":{\"value\":\"treatment\"},\"rweb_promoted_hw_cards_8477\":{\"value\":\"treatment\"}},\"debug\":{},\"impression_pointers\":{},\"impressions\":{},\"featureSetToken\":\"440053e72860216f192c5f94f4d8d0e2dec78cb9\",\"isLoaded\":true,\"isLoading\":false,\"keysRead\":{},\"settingsVersion\":\"3d2b225de9c4da2b25f1d46bf664ca6f\"},\"urt\":{},\"entities\":{\"users\":{\"entities\":{},\"errors\":{},\"fetchStatus\":{}},\"tweets\":{\"entities\":{},\"errors\":{},\"fetchStatus\":{}},\"cards\":{\"entities\":{},\"errors\":{},\"fetchStatus\":{}}},\"toasts\":[],\"devices\":{\"browserPush\":{\"fetchStatus\":\"none\",\"pushNotificationsPrompt\":{\"dismissed\":false,\"fetchStatus\":\"none\"},\"subscribed\":false,\"supported\":null},\"devices\":{\"data\":{\"emails\":[],\"phone_numbers\":[]},\"fetchStatus\":\"none\"},\"notificationSettings\":{\"push_settings\":{\"error\":null,\"fetchStatus\":\"none\"},\"push_settings_template\":{\"template\":{\"settings\":[]}},\"sms_settings\":{\"error\":null,\"fetchStatus\":\"none\"},\"sms_settings_template\":{\"template\":{\"settings\":[]}},\"checkin_time\":null}},\"typeaheadUsers\":{\"fetchStatus\":\"none\",\"users\":{},\"denylist\":{},\"lastUpdated\":0,\"index\":{}},\"session\":{\"country\":\"US\",\"emailLiteLoginEligibility\":{\"fetchStatus\":\"none\"},\"guestId\":\"158325187266252304\",\"language\":\"en\",\"oneFactorLoginEligibility\":{\"fetchStatus\":\"none\"}},\"settings\":{\"local\":{\"nextPushCheckin\":0,\"shouldAutoPlayGif\":false,\"scale\":\"normal\",\"themeColor\":\"blue\",\"highContrastEnabled\":false,\"themeBackground\":\"light\",\"loginPromptLastShown\":0,\"reducedMotionEnabled\":false,\"conversationTreeEnabled\":false},\"remote\":{\"settings\":{\"display_sensitive_media\":false},\"fetchStatus\":\"none\"},\"dataSaver\":{\"dataSaverMode\":false},\"transient\":{\"dtabBarInfo\":{\"dtabAll\":null,\"dtabRweb\":null,\"hide\":false},\"loginPromptShown\":false,\"lastViewedDmInboxPath\":\"/messages\",\"themeFocus\":\"\"}},\"hashflags\":{\"fetchStatus\":\"none\",\"hashflags\":{}}};\nwindow.__META_DATA__ = {\"env\":\"prod\",\"isFromDynamicRenderer\":false,\"isLoggedIn\":false,\"isRTL\":false,\"hasMultiAccountCookie\":false,\"serverDate\":1583251872712,\"sha\":\"94d2213496936a6bfb8673afb604832e5b87e0a0\"};\n</script>\n<script nonce=\"\">\n  document.cookie = decodeURIComponent(\"gt=1234873973017653254; Max-Age=10800; Domain=.twitter.com; Path=/; Secure\");\n</script>\n<script charset=\"utf-8\" nonce=\"\" type=\"text/javascript\">\n  window.__SCRIPTS_LOADED__ = {};\n  !function(e){function n(n){for(var o,t,i=n[0],m=n[1],c=n[2],u=0,b=[];u&lt;i.length;u++)t=i[u],Object.prototype.hasOwnProperty.call(a,t)&amp;&amp;a[t]&amp;&amp;b.push(a[t][0]),a[t]=0;for(o in m)Object.prototype.hasOwnProperty.call(m,o)&amp;&amp;(e[o]=m[o]);for(l&amp;&amp;l(n);b.length;)b.shift()();return r.push.apply(r,c||[]),d()}function d(){for(var e,n=0;n&lt;r.length;n++){for(var d=r[n],o=!0,i=1;i&lt;d.length;i++){var m=d[i];0!==a[m]&amp;&amp;(o=!1)}o&amp;&amp;(r.splice(n--,1),e=t(t.s=d[0]))}return e}var o={},a={0:0},r=[];function t(n){if(o[n])return o[n].exports;var d=o[n]={i:n,l:!1,exports:{}};return e[n].call(d.exports,d,d.exports,t),d.l=!0,d.exports}t.e=function(e){var n=[],d=a[e];if(0!==d)if(d)n.push(d[2]);else{var o=new Promise((function(n,o){d=a[e]=[n,o]}));n.push(d[2]=o);var r,i=document.createElement(\"script\");i.charset=\"utf-8\",i.timeout=120,t.nc&amp;&amp;i.setAttribute(\"nonce\",t.nc),i.src=function(e){return t.p+\"\"+({2:\"shared~bundle.HomeTimeline\",3:\"shared~bundle.DirectMessages\",4:\"shared~bundle.UserProfile\",5:\"shared~bundle.Settings\",6:\"shared~bundle.Explore~bundle.GenericTimeline~bundle.LiveEvent~bundle.Place~bundle.Search\",7:\"bundle.NewsCameraCapsule~loader.NewsCamera~ondemand.VideoPlayerDefaultUI\",8:\"bundle.Conversation~bundle.TweetMediaDetail\",9:\"bundle.DMRichTextCompose~ondemand.TweetDeckRichTextCompose\",10:\"bundle.Display~bundle.Settings\",11:\"bundle.NewsCameraCapsule~loader.NewsCamera\",12:\"ondemand.PlayerBase~ondemand.lex\",13:\"vendors~ondemand.TweetDeckRichTextCompose~bundle.DMRichTextCompose\",14:\"bundle.AboutThisAd\",15:\"bundle.Account\",16:\"bundle.AdvancedSearch\",17:\"bundle.Bookmarks\",18:\"bundle.Broadcast\",19:\"bundle.Collection\",20:\"bundle.Compose\",21:\"bundle.ComposeMedia\",22:\"bundle.ConnectTab\",23:\"bundle.Conversation\",24:\"bundle.ConversationParticipants\",25:\"bundle.DMRichTextCompose\",26:\"bundle.DirectMessages\",27:\"bundle.Display\",28:\"bundle.Download\",29:\"bundle.Explore\",30:\"bundle.ExploreTopics\",31:\"bundle.FollowerRequests\",32:\"bundle.GenericTimeline\",33:\"bundle.GifSearch\",34:\"bundle.HomeTimeline\",35:\"bundle.KeyboardShortcuts\",36:\"bundle.LiveEvent\",37:\"bundle.LoggedOutHome\",38:\"bundle.Login\",39:\"bundle.Logout\",40:\"bundle.Moment\",41:\"bundle.MomentMaker\",42:\"bundle.MultiAccount\",43:\"bundle.NetworkInstrument\",44:\"bundle.NewsCameraCapsule\",45:\"bundle.NotificationDetail\",46:\"bundle.Notifications\",47:\"bundle.Ocf\",48:\"bundle.Place\",49:\"bundle.ProfileRedirect\",50:\"bundle.Report\",51:\"bundle.RichTextCompose\",52:\"bundle.Search\",53:\"bundle.Settings\",54:\"bundle.SettingsInternals\",55:\"bundle.SettingsProfile\",56:\"bundle.SettingsTransparency\",57:\"bundle.SmsLogin\",58:\"bundle.Topics\",59:\"bundle.Trends\",60:\"bundle.TweetActivity\",61:\"bundle.TweetMediaDetail\",62:\"bundle.TweetMediaTags\",63:\"bundle.Twitterversary\",64:\"bundle.UserAvatar\",65:\"bundle.UserFollowLists\",66:\"bundle.UserHeader\",67:\"bundle.UserLists\",68:\"bundle.UserMoments\",69:\"bundle.UserProfile\",70:\"bundle.UserProfileTimelines\",71:\"bundle.UserRedirect\",170:\"loader.AbsolutePower\",171:\"loader.AppModules\",172:\"loader.DashMenu\",173:\"loader.ExploreSidebar\",174:\"loader.FeedbackSheet\",175:\"loader.FeedbackTombstone\",176:\"loader.HWCard\",177:\"loader.NewTweetsPill\",178:\"loader.NewsCamera\",179:\"loader.PeriscopeOverlay\",180:\"loader.ProfileClusterFollow\",181:\"loader.PushNotificationsPrompt\",182:\"loader.SideNav\",183:\"loader.SignupModule\",184:\"loader.TimelineGap\",185:\"loader.TimelineRenderer\",186:\"loader.TweetCurationActionMenu\",187:\"loader.TweetPhotos\",188:\"loader.Typeahead\",189:\"loader.WideLayout\",190:\"loader.directMessagesData\",191:\"loader.graphQLDarkReads\",193:\"ondemand.Balloons\",194:\"ondemand.CarouselScroller\",195:\"ondemand.ComposeScheduling\",196:\"ondemand.EditBirthdate\",197:\"ondemand.EmojiPicker\",198:\"ondemand.HoverCard\",199:\"ondemand.InlinePlayer\",200:\"ondemand.IntentPrompt\",201:\"ondemand.MicrosoftInterface\",202:\"ondemand.PlayerBase\",203:\"ondemand.PlayerHls12\",204:\"ondemand.PlayerUi\",205:\"ondemand.ProfileSidebar\",206:\"ondemand.SettingsInternals\",207:\"ondemand.TweetDeckRichTextCompose\",208:\"ondemand.VideoPlayerDefaultUI\",209:\"ondemand.countries-ar\",210:\"ondemand.countries-bg\",211:\"ondemand.countries-bn\",212:\"ondemand.countries-ca\",213:\"ondemand.countries-cs\",214:\"ondemand.countries-da\",215:\"ondemand.countries-de\",216:\"ondemand.countries-el\",217:\"ondemand.countries-en\",218:\"ondemand.countries-en-GB\",219:\"ondemand.countries-es\",220:\"ondemand.countries-eu\",221:\"ondemand.countries-fa\",222:\"ondemand.countries-fi\",223:\"ondemand.countries-fil\",224:\"ondemand.countries-fr\",225:\"ondemand.countries-ga\",226:\"ondemand.countries-gl\",227:\"ondemand.countries-gu\",228:\"ondemand.countries-he\",229:\"ondemand.countries-hi\",230:\"ondemand.countries-hr\",231:\"ondemand.countries-hu\",232:\"ondemand.countries-id\",233:\"ondemand.countries-it\",234:\"ondemand.countries-ja\",235:\"ondemand.countries-kn\",236:\"ondemand.countries-ko\",237:\"ondemand.countries-mr\",238:\"ondemand.countries-ms\",239:\"ondemand.countries-nb\",240:\"ondemand.countries-nl\",241:\"ondemand.countries-pl\",242:\"ondemand.countries-pt\",243:\"ondemand.countries-ro\",244:\"ondemand.countries-ru\",245:\"ondemand.countries-sk\",246:\"ondemand.countries-sr\",247:\"ondemand.countries-sv\",248:\"ondemand.countries-ta\",249:\"ondemand.countries-th\",250:\"ondemand.countries-tr\",251:\"ondemand.countries-uk\",252:\"ondemand.countries-ur\",253:\"ondemand.countries-zh\",254:\"ondemand.countries-zh-Hant\",255:\"ondemand.emoji.ar\",256:\"ondemand.emoji.bg\",257:\"ondemand.emoji.bn\",258:\"ondemand.emoji.ca\",259:\"ondemand.emoji.cs\",260:\"ondemand.emoji.da\",261:\"ondemand.emoji.de\",262:\"ondemand.emoji.el\",263:\"ondemand.emoji.en\",264:\"ondemand.emoji.en-GB\",265:\"ondemand.emoji.en-ss\",266:\"ondemand.emoji.en-xx\",267:\"ondemand.emoji.es\",268:\"ondemand.emoji.eu\",269:\"ondemand.emoji.fa\",270:\"ondemand.emoji.fi\",271:\"ondemand.emoji.fil\",272:\"ondemand.emoji.fr\",273:\"ondemand.emoji.ga\",274:\"ondemand.emoji.gl\",275:\"ondemand.emoji.gu\",276:\"ondemand.emoji.he\",277:\"ondemand.emoji.hi\",278:\"ondemand.emoji.hr\",279:\"ondemand.emoji.hu\",280:\"ondemand.emoji.id\",281:\"ondemand.emoji.it\",282:\"ondemand.emoji.ja\",283:\"ondemand.emoji.kn\",284:\"ondemand.emoji.ko\",285:\"ondemand.emoji.mr\",286:\"ondemand.emoji.ms\",287:\"ondemand.emoji.nb\",288:\"ondemand.emoji.nl\",289:\"ondemand.emoji.pl\",290:\"ondemand.emoji.pt\",291:\"ondemand.emoji.ro\",292:\"ondemand.emoji.ru\",293:\"ondemand.emoji.sk\",294:\"ondemand.emoji.sr\",295:\"ondemand.emoji.sv\",296:\"ondemand.emoji.ta\",297:\"ondemand.emoji.th\",298:\"ondemand.emoji.tr\",299:\"ondemand.emoji.uk\",300:\"ondemand.emoji.ur\",301:\"ondemand.emoji.vi\",302:\"ondemand.emoji.zh\",303:\"ondemand.emoji.zh-Hant\",304:\"ondemand.framerateTracking\",305:\"ondemand.lex\",307:\"vendors~bundle.MomentMaker\",308:\"vendors~ondemand.EmojiPicker\",309:\"vendors~ondemand.PlayerBase\",310:\"vendors~ondemand.PlayerUi\",311:\"vendors~ondemand.TweetDeckRichTextCompose\"}[e]||e)+\".\"+{2:\"b388437\",3:\"ccbdc79\",4:\"b9d500b\",5:\"efd410b\",6:\"0ddf202\",7:\"01cd1bb\",8:\"1f9dc31\",9:\"f7a068f\",10:\"b7b0176\",11:\"c9b4719\",12:\"2fc597b\",13:\"2399444\",14:\"432f4cb\",15:\"67b16ba\",16:\"89e9298\",17:\"70e548d\",18:\"1398447\",19:\"cd99cc5\",20:\"e716f22\",21:\"9fccee9\",22:\"60b53cf\",23:\"d9b34af\",24:\"1df7f40\",25:\"162acde\",26:\"999d590\",27:\"20b69bb\",28:\"76060a7\",29:\"5caff58\",30:\"852db51\",31:\"9662f58\",32:\"47797f3\",33:\"e344996\",34:\"409455a\",35:\"7346fef\",36:\"48e58ed\",37:\"816f389\",38:\"aee532c\",39:\"17a9b4d\",40:\"4167c00\",41:\"761d07d\",42:\"d22a4df\",43:\"2c24bf7\",44:\"ad72e53\",45:\"24bb4ac\",46:\"0ff6842\",47:\"fc3279c\",48:\"64d548a\",49:\"df5c9ad\",50:\"09ff29e\",51:\"d96a3ca\",52:\"1194f23\",53:\"6aecce0\",54:\"6f415b1\",55:\"fba1217\",56:\"9535a65\",57:\"f70745c\",58:\"e1ef867\",59:\"c91a68d\",60:\"cad45ba\",61:\"511c727\",62:\"ba6b080\",63:\"74a6ad1\",64:\"d4189ba\",65:\"6f2007b\",66:\"deac82a\",67:\"8514a19\",68:\"d02f45d\",69:\"7257167\",70:\"d4fa461\",71:\"5d817be\",170:\"27c7d82\",171:\"a10c741\",172:\"e8d045b\",173:\"a7bd99a\",174:\"78b25ab\",175:\"f830b34\",176:\"cdf4fd3\",177:\"abf8d9f\",178:\"32b3449\",179:\"53018fb\",180:\"29af681\",181:\"0d7fa41\",182:\"fdeb681\",183:\"1e220d1\",184:\"092242a\",185:\"8c5db91\",186:\"dbdc487\",187:\"1977b08\",188:\"643865a\",189:\"d7a322f\",190:\"dbc5107\",191:\"9bce956\",193:\"f67347c\",194:\"6b7161a\",195:\"e827e11\",196:\"95cbfc5\",197:\"82a37b6\",198:\"3b026bd\",199:\"674400e\",200:\"fe6e8ab\",201:\"86fd62c\",202:\"c541897\",203:\"8da925b\",204:\"5fe5a3e\",205:\"bd468e8\",206:\"cadd826\",207:\"39ff85a\",208:\"475683f\",209:\"d4e488c\",210:\"3b85f91\",211:\"064f142\",212:\"e352ac8\",213:\"bb32611\",214:\"c3902b4\",215:\"a354b2f\",216:\"e60b36a\",217:\"44dbe24\",218:\"0f0491f\",219:\"0872961\",220:\"a57f677\",221:\"79ef574\",222:\"7ce0779\",223:\"43e6461\",224:\"32b7657\",225:\"c3e2ac8\",226:\"caca203\",227:\"48abc43\",228:\"0d2cacf\",229:\"a420644\",230:\"af2578b\",231:\"03981b5\",232:\"65a1df9\",233:\"a2f052d\",234:\"f653bd6\",235:\"ac9ea8e\",236:\"7762b2b\",237:\"771a2fc\",238:\"8941563\",239:\"cb6d992\",240:\"1e48d9e\",241:\"5f93479\",242:\"65de34c\",243:\"a928589\",244:\"95fe239\",245:\"ff2b631\",246:\"1af1f1d\",247:\"9cd375d\",248:\"27eb8ea\",249:\"e8495a0\",250:\"9753acd\",251:\"6f9c278\",252:\"42347f2\",253:\"c8a82af\",254:\"6b0eadc\",255:\"d907a21\",256:\"69477dc\",257:\"2fb15a4\",258:\"9302d60\",259:\"dc67882\",260:\"88db522\",261:\"95486b2\",262:\"02d9460\",263:\"f3b15d3\",264:\"af5a429\",265:\"71d0078\",266:\"dd1c201\",267:\"2afb977\",268:\"0748afd\",269:\"9cfa7b8\",270:\"a8e72b3\",271:\"91ef5f8\",272:\"2dd0cff\",273:\"f068c78\",274:\"5f56dec\",275:\"687831a\",276:\"a3c52d1\",277:\"026071f\",278:\"c1f5603\",279:\"8cea11b\",280:\"8738763\",281:\"4aa8cd6\",282:\"724189e\",283:\"302d87d\",284:\"f71fdbf\",285:\"f0346bf\",286:\"81be7b0\",287:\"a804db2\",288:\"42e4524\",289:\"86a5e88\",290:\"0de09b7\",291:\"3248a6e\",292:\"f49e9b5\",293:\"d9b3c1f\",294:\"750ed91\",295:\"54625a0\",296:\"98d26a2\",297:\"7d1b62a\",298:\"0843536\",299:\"3af76a6\",300:\"1175cb6\",301:\"e5afdb7\",302:\"e3947ab\",303:\"1957ee6\",304:\"d293a94\",305:\"32d8d32\",307:\"e0d4c2a\",308:\"e054bde\",309:\"332625f\",310:\"f3d3a7a\",311:\"c709c83\"}[e]+\"4.js\"}(e);var m=new Error;r=function(n){i.onerror=i.onload=null,clearTimeout(c);var d=a[e];if(0!==d){if(d){var o=n&amp;&amp;(\"load\"===n.type?\"missing\":n.type),r=n&amp;&amp;n.target&amp;&amp;n.target.src;m.message=\"Loading chunk \"+e+\" failed.\\n(\"+o+\": \"+r+\")\",m.name=\"ChunkLoadError\",m.type=o,m.request=r,d[1](m)}a[e]=void 0}};var c=setTimeout((function(){r({type:\"timeout\",target:i})}),12e4);i.onerror=i.onload=r,document.head.appendChild(i)}return Promise.all(n)},t.m=e,t.c=o,t.d=function(e,n,d){t.o(e,n)||Object.defineProperty(e,n,{enumerable:!0,get:d})},t.r=function(e){\"undefined\"!=typeof Symbol&amp;&amp;Symbol.toStringTag&amp;&amp;Object.defineProperty(e,Symbol.toStringTag,{value:\"Module\"}),Object.defineProperty(e,\"__esModule\",{value:!0})},t.t=function(e,n){if(1&amp;n&amp;&amp;(e=t(e)),8&amp;n)return e;if(4&amp;n&amp;&amp;\"object\"==typeof e&amp;&amp;e&amp;&amp;e.__esModule)return e;var d=Object.create(null);if(t.r(d),Object.defineProperty(d,\"default\",{enumerable:!0,value:e}),2&amp;n&amp;&amp;\"string\"!=typeof e)for(var o in e)t.d(d,o,function(n){return e[n]}.bind(null,o));return d},t.n=function(e){var n=e&amp;&amp;e.__esModule?function(){return e.default}:function(){return e};return t.d(n,\"a\",n),n},t.o=function(e,n){return Object.prototype.hasOwnProperty.call(e,n)},t.p=\"https://abs.twimg.com/responsive-web/web/\",t.oe=function(e){throw e};var i=window.webpackJsonp=window.webpackJsonp||[],m=i.push.bind(i);i.push=n,i=i.slice();for(var c=0;c&lt;i.length;c++)n(i[c]);var l=m;d()}([]),window.__SCRIPTS_LOADED__.runtime=!0;\n//# sourceMappingURL=runtime.96439334.js.map\n</script>\n<script charset=\"utf-8\" crossorigin=\"anonymous\" nonce=\"\" src=\"https://abs.twimg.com/responsive-web/web/polyfills.d82543e4.js\" type=\"text/javascript\"></script>\n<script charset=\"utf-8\" crossorigin=\"anonymous\" nonce=\"\" src=\"https://abs.twimg.com/responsive-web/web/vendors~main.483e4ab4.js\" type=\"text/javascript\"></script>\n<script charset=\"utf-8\" crossorigin=\"anonymous\" nonce=\"\" src=\"https://abs.twimg.com/responsive-web/web/i18n-rweb/en.687b6644.js\" type=\"text/javascript\"></script>\n<script charset=\"utf-8\" crossorigin=\"anonymous\" nonce=\"\" src=\"https://abs.twimg.com/responsive-web/web/i18n-horizon/en.be3e6784.js\" type=\"text/javascript\"></script>\n<script charset=\"utf-8\" crossorigin=\"anonymous\" nonce=\"\" src=\"https://abs.twimg.com/responsive-web/web/main.10c74524.js\" type=\"text/javascript\"></script>\n<script nonce=\"\">\n  if (!window.__SCRIPTS_LOADED__['main']) {\n    document.getElementById('ScriptLoadFailure').style.display = 'block';\n  }\n</script>\n<script async=\"\" src=\"https://twitter.com/i/js_inst?c_name=ui_metrics\"></script></body></html>\n"
    }
   ],
   "source": [
    "twitter2 = mars_twitter.find(\"p\", \"tweet-text\")\n",
    "print(mars_twitter)"
   ]
  },
  {
   "cell_type": "code",
   "execution_count": 21,
   "metadata": {},
   "outputs": [],
   "source": [
    "# facts"
   ]
  },
  {
   "cell_type": "code",
   "execution_count": 22,
   "metadata": {},
   "outputs": [
    {
     "name": "stdout",
     "output_type": "stream",
     "text": "0                              1\n0  Equatorial Diameter:                       6,792 km\n1       Polar Diameter:                       6,752 km\n2                 Mass:  6.39 × 10^23 kg (0.11 Earths)\n3                Moons:            2 (Phobos & Deimos)\n4       Orbit Distance:       227,943,824 km (1.38 AU)\n5         Orbit Period:           687 days (1.9 years)\n6  Surface Temperature:                   -87 to -5 °C\n7         First Record:              2nd millennium BC\n8          Recorded By:           Egyptian astronomers\n"
    }
   ],
   "source": [
    "mars_facts = pd.read_html(\"https://space-facts.com/mars/\")[0]\n",
    "print(mars_facts)"
   ]
  },
  {
   "cell_type": "code",
   "execution_count": 23,
   "metadata": {},
   "outputs": [
    {
     "data": {
      "text/html": "<div>\n<style scoped>\n    .dataframe tbody tr th:only-of-type {\n        vertical-align: middle;\n    }\n\n    .dataframe tbody tr th {\n        vertical-align: top;\n    }\n\n    .dataframe thead th {\n        text-align: right;\n    }\n</style>\n<table border=\"1\" class=\"dataframe\">\n  <thead>\n    <tr style=\"text-align: right;\">\n      <th></th>\n      <th>Value</th>\n    </tr>\n    <tr>\n      <th>Description</th>\n      <th></th>\n    </tr>\n  </thead>\n  <tbody>\n    <tr>\n      <th>Equatorial Diameter:</th>\n      <td>6,792 km</td>\n    </tr>\n    <tr>\n      <th>Polar Diameter:</th>\n      <td>6,752 km</td>\n    </tr>\n    <tr>\n      <th>Mass:</th>\n      <td>6.39 × 10^23 kg (0.11 Earths)</td>\n    </tr>\n    <tr>\n      <th>Moons:</th>\n      <td>2 (Phobos &amp; Deimos)</td>\n    </tr>\n    <tr>\n      <th>Orbit Distance:</th>\n      <td>227,943,824 km (1.38 AU)</td>\n    </tr>\n    <tr>\n      <th>Orbit Period:</th>\n      <td>687 days (1.9 years)</td>\n    </tr>\n    <tr>\n      <th>Surface Temperature:</th>\n      <td>-87 to -5 °C</td>\n    </tr>\n    <tr>\n      <th>First Record:</th>\n      <td>2nd millennium BC</td>\n    </tr>\n    <tr>\n      <th>Recorded By:</th>\n      <td>Egyptian astronomers</td>\n    </tr>\n  </tbody>\n</table>\n</div>",
      "text/plain": "                                              Value\nDescription                                        \nEquatorial Diameter:                       6,792 km\nPolar Diameter:                            6,752 km\nMass:                 6.39 × 10^23 kg (0.11 Earths)\nMoons:                          2 (Phobos & Deimos)\nOrbit Distance:            227,943,824 km (1.38 AU)\nOrbit Period:                  687 days (1.9 years)\nSurface Temperature:                   -87 to -5 °C\nFirst Record:                     2nd millennium BC\nRecorded By:                   Egyptian astronomers"
     },
     "execution_count": 23,
     "metadata": {},
     "output_type": "execute_result"
    }
   ],
   "source": [
    "mars_facts.columns=[\"Description\", \"Value\"]\n",
    "mars_facts.set_index(\"Description\", inplace=True)\n",
    "mars_facts"
   ]
  },
  {
   "cell_type": "code",
   "execution_count": 24,
   "metadata": {},
   "outputs": [],
   "source": [
    "executable_path = {'executable_path': 'chromedriver'}\n",
    "browser = Browser('chrome', **executable_path)\n",
    "url = 'https://astrogeology.usgs.gov/search/results?q=hemisphere+enhanced&k1=target&v1=Mars'\n",
    "browser.visit(url)"
   ]
  },
  {
   "cell_type": "code",
   "execution_count": 25,
   "metadata": {},
   "outputs": [
    {
     "name": "stdout",
     "output_type": "stream",
     "text": "<splinter.element_list.ElementList object at 0x0000020F2B4A50C8>\n"
    }
   ],
   "source": [
    "links = browser.find_by_css(\"a.product-item h3\")\n",
    "print(links)"
   ]
  },
  {
   "cell_type": "code",
   "execution_count": 26,
   "metadata": {},
   "outputs": [],
   "source": [
    " browser.quit()"
   ]
  },
  {
   "cell_type": "code",
   "execution_count": null,
   "metadata": {},
   "outputs": [],
   "source": []
  }
 ],
 "metadata": {
  "kernelspec": {
   "display_name": "Python 3",
   "language": "python",
   "name": "python3"
  },
  "language_info": {
   "codemirror_mode": {
    "name": "ipython",
    "version": 3
   },
   "file_extension": ".py",
   "mimetype": "text/x-python",
   "name": "python",
   "nbconvert_exporter": "python",
   "pygments_lexer": "ipython3",
   "version": "3.7.6-final"
  }
 },
 "nbformat": 4,
 "nbformat_minor": 4
}